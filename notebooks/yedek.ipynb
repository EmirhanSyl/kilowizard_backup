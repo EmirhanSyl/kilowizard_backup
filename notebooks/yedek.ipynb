{
 "cells": [
  {
   "metadata": {},
   "cell_type": "code",
   "outputs": [],
   "execution_count": null,
   "source": [
    "import numpy as np\n",
    "\n",
    "target_col = 'Smf'  # or 'Smfdolar', 'Ptf', etc.\n",
    "\n",
    "# Ensure numeric-only for correlation\n",
    "numeric_cols = merged_istanbul_df.select_dtypes(include=[np.number]).columns\n",
    "df_num = merged_istanbul_df[numeric_cols].dropna(subset=[target_col])\n",
    "\n",
    "corr_with_target = df_num.corr()[target_col].sort_values(key=abs, ascending=False)\n",
    "print(\"Correlation with target:\", target_col)\n",
    "print(corr_with_target.head(20))  # top 20 absolute correlations\n"
   ],
   "id": "482b117cfcbc067"
  },
  {
   "metadata": {},
   "cell_type": "code",
   "outputs": [],
   "execution_count": null,
   "source": [
    "import matplotlib.pyplot as plt\n",
    "import seaborn as sns\n",
    "\n",
    "top_n = 20\n",
    "top_corr = corr_with_target.head(top_n).iloc[::-1]  # reverse so highest is at bottom\n",
    "\n",
    "plt.figure(figsize=(6,8))\n",
    "sns.barplot(x=top_corr.values, y=top_corr.index, orient='h')\n",
    "plt.title(f\"Top {top_n} absolute correlations with {target_col}\")\n",
    "plt.show()\n"
   ],
   "id": "70e1d09245c912c4"
  },
  {
   "metadata": {},
   "cell_type": "code",
   "outputs": [],
   "execution_count": null,
   "source": [
    "top_features = corr_with_target.index[:15].tolist()  # top 15\n",
    "subset_cols = [target_col] + [col for col in top_features if col != target_col]\n",
    "\n",
    "plt.figure(figsize=(10,8))\n",
    "corr_mat = df_num[subset_cols].corr()\n",
    "sns.heatmap(corr_mat, annot=True, cmap='coolwarm', fmt='.2f')\n",
    "plt.title(\"Correlation Heatmap (Top Features + Target)\")\n",
    "plt.show()\n"
   ],
   "id": "ca85fd4a4eae9bcf"
  },
  {
   "metadata": {},
   "cell_type": "code",
   "outputs": [],
   "execution_count": null,
   "source": [
    "import seaborn as sns\n",
    "\n",
    "sample_features = [target_col, 'Talepislemhacmi', 'Gerceklesendogalgaz', 'wind_spd']  # example\n",
    "sns.pairplot(df_num[sample_features].dropna(), diag_kind='kde')\n",
    "plt.suptitle(\"Pairwise Relationships\", y=1.02)\n",
    "plt.show()\n"
   ],
   "id": "5a9e65d710a31627"
  },
  {
   "metadata": {},
   "cell_type": "code",
   "outputs": [],
   "execution_count": null,
   "source": [
    "plt.figure(figsize=(12,5))\n",
    "merged_istanbul_df.set_index('Tarih')['Smf'].plot()\n",
    "plt.title(\"SMF Over Time\")\n",
    "plt.ylabel(\"Price\")\n",
    "plt.show()\n"
   ],
   "id": "71cf32573c632997"
  },
  {
   "metadata": {},
   "cell_type": "code",
   "outputs": [],
   "execution_count": null,
   "source": [
    "fig, ax1 = plt.subplots(figsize=(12,5))\n",
    "\n",
    "ax1.set_xlabel(\"Time\")\n",
    "ax1.set_ylabel(\"SMF\", color=\"tab:red\")\n",
    "ax1.plot(merged_istanbul_df['Tarih'], merged_istanbul_df['Smf'], color=\"tab:red\", label=\"SMF\")\n",
    "ax1.tick_params(axis='y', labelcolor='tab:red')\n",
    "\n",
    "ax2 = ax1.twinx()  # second y-axis\n",
    "ax2.set_ylabel(\"Talepislemhacmi\", color=\"tab:blue\")\n",
    "ax2.plot(merged_istanbul_df['Tarih'], merged_istanbul_df['Talepislemhacmi'], color=\"tab:blue\", label=\"Demand\")\n",
    "ax2.tick_params(axis='y', labelcolor='tab:blue')\n",
    "\n",
    "fig.tight_layout()\n",
    "plt.title(\"SMF vs Demand Over Time\")\n",
    "plt.show()\n"
   ],
   "id": "a9d3b0c694b86149"
  },
  {
   "metadata": {},
   "cell_type": "code",
   "outputs": [],
   "execution_count": null,
   "source": [
    "key_cols = [\"Smf\", \"Ptf\", \"Talepislemhacmi\", \"Gerceklesendogalgaz\"]\n",
    "fig, axes = plt.subplots(nrows=2, ncols=2, figsize=(12,8))\n",
    "axes = axes.flatten()\n",
    "\n",
    "for ax, col in zip(axes, key_cols):\n",
    "    sns.boxplot(data=merged_istanbul_df, x=col, ax=ax)\n",
    "    ax.set_title(f\"Box Plot: {col}\")\n",
    "\n",
    "plt.tight_layout()\n",
    "plt.show()\n"
   ],
   "id": "fe89a566d4513796"
  }
 ],
 "metadata": {
  "kernelspec": {
   "display_name": "Python 3",
   "language": "python",
   "name": "python3"
  },
  "language_info": {
   "codemirror_mode": {
    "name": "ipython",
    "version": 2
   },
   "file_extension": ".py",
   "mimetype": "text/x-python",
   "name": "python",
   "nbconvert_exporter": "python",
   "pygments_lexer": "ipython2",
   "version": "2.7.6"
  }
 },
 "nbformat": 4,
 "nbformat_minor": 5
}
